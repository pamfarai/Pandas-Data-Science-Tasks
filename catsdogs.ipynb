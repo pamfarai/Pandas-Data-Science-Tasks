{
  "nbformat": 4,
  "nbformat_minor": 0,
  "metadata": {
    "colab": {
      "name": "catsdogs.ipynb",
      "provenance": [],
      "mount_file_id": "1V0919-5Chev9DzSd5EtiidCVLijIkDvG",
      "authorship_tag": "ABX9TyO4c15OhEryHckA0ooRnRG3",
      "include_colab_link": true
    },
    "kernelspec": {
      "name": "python3",
      "display_name": "Python 3"
    }
  },
  "cells": [
    {
      "cell_type": "markdown",
      "metadata": {
        "id": "view-in-github",
        "colab_type": "text"
      },
      "source": [
        "<a href=\"https://colab.research.google.com/github/pamfarai/Pandas-Data-Science-Tasks/blob/master/catsdogs.ipynb\" target=\"_parent\"><img src=\"https://colab.research.google.com/assets/colab-badge.svg\" alt=\"Open In Colab\"/></a>"
      ]
    },
    {
      "cell_type": "code",
      "metadata": {
        "id": "9cXwXeGzOX7_",
        "colab_type": "code",
        "colab": {}
      },
      "source": [
        "import numpy as np\n",
        "import matplotlib.pyplot as plt\n",
        "import os\n",
        "import cv2\n",
        "from google.colab import drive\n",
        "drive.mount('/content/drive')\n",
        "\n",
        "DATADIR = \"Google Drive\\23777_30378\"\n",
        "CATEGORIES = ['Dog', \"Cat\"]\n",
        "\n",
        "for category in CATEGORIES:\n",
        "  path = os.path.join(DATADIR, category) # path to cats or dogs dir\n",
        "  for img in os.listdir(path):"
      ],
      "execution_count": null,
      "outputs": []
    },
    {
      "cell_type": "markdown",
      "metadata": {
        "id": "g1LdG5Mbb8W9",
        "colab_type": "text"
      },
      "source": [
        "# New Section"
      ]
    }
  ]
}